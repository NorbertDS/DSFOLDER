{
 "cells": [
  {
   "cell_type": "markdown",
   "id": "e560176c",
   "metadata": {},
   "source": [
    "#Bubble Sort\n",
    "23, 42, 75, 8, 6, 9\n",
    "\n",
    "j   j+1\n",
    "\n",
    "j>j+1(swap) if not move ahead\n",
    "\n",
    "23>42 not geater than so do not swap so we move\n",
    "\n",
    "23, 42, 75, 8, 6, 9\n",
    "     j   j+1\n",
    "42>75 \n",
    "\n",
    "move \n",
    "23, 42, 75, 8, 6, 9\n",
    "        j   j+1\n",
    "        \n",
    " 75>8 yes, swap\n",
    " \n",
    " 23, 42, 8, 75, 6, 9\n",
    " \n",
    "             j  j+1\n",
    "             \n",
    "             \n",
    "75>6 yes, swap\n",
    " 23, 42, 8, 6, 75, 9\n",
    " \n",
    " 23, 42, 8, 6, 9,      75\n",
    "\n",
    "23, 42, 8, 6, 9\n",
    "\n",
    "23, 8, 42, 6, 9\n",
    "\n",
    "23, 8, 6, 42, 9\n",
    "\n",
    "23, 8, 6, 9,           42\n",
    "\n",
    "23, 8, 6, 9\n",
    "\n",
    "8, 23, 6, 9\n",
    "\n",
    "8, 6, 23, 9\n",
    "\n",
    "8, 6, 9,            23\n",
    "\n",
    "\n",
    "8, 6, 9\n",
    "\n",
    "6, 8, 9, 23, 42, 75 \n"
   ]
  },
  {
   "cell_type": "code",
   "execution_count": 24,
   "id": "6c9dff96",
   "metadata": {},
   "outputs": [],
   "source": [
    "def bubble_sort(my_list):\n",
    "    my_list_length = len(my_list) #the length of the lest\n",
    "    \n",
    "    \n",
    "    for i in range (my_list_length):# The outer loop interates as many times through the list\n",
    "        for j in range (my_list_length-1-i): #The inner loop interates as many times as the length of the list\n",
    "            #we substratct i to avoid checking the already sorted valuesat the end of the list\n",
    "            \n",
    "            if my_list[j] > my_list[j+1]: # if conditio  true swap\n",
    "                my_list[j], my_list[j+1] = my_list[j+1], my_list[j]\n",
    "                \n",
    "                \n",
    "    return my_list        \n",
    "    \n",
    "    \n",
    "            \n",
    "            \n",
    "\n",
    "         \n",
    "                "
   ]
  },
  {
   "cell_type": "code",
   "execution_count": 25,
   "id": "f74e8ec0",
   "metadata": {},
   "outputs": [
    {
     "data": {
      "text/plain": [
       "[6, 8, 9, 23, 42, 75]"
      ]
     },
     "execution_count": 25,
     "metadata": {},
     "output_type": "execute_result"
    }
   ],
   "source": [
    "bubble_sort([23, 42, 75, 8, 6, 9])\n"
   ]
  },
  {
   "cell_type": "code",
   "execution_count": 20,
   "id": "4277558d",
   "metadata": {},
   "outputs": [],
   "source": [
    "def bubble_sort(my_list):\n",
    "    my_list_length = len(my_list)\n",
    "    for i in range (my_list_length - 1):\n",
    "        for j in range (my_list_length - 1 - i):\n",
    "            \n",
    "            if my_list[j] > my_list[j+1]:\n",
    "                my_list[j], my_list[j+1] = my_list[j+1], my_list[j]\n",
    "    else: return my_list"
   ]
  },
  {
   "cell_type": "code",
   "execution_count": 21,
   "id": "3631fa53",
   "metadata": {},
   "outputs": [
    {
     "data": {
      "text/plain": [
       "[6, 8, 9, 23, 42, 75]"
      ]
     },
     "execution_count": 21,
     "metadata": {},
     "output_type": "execute_result"
    }
   ],
   "source": [
    "bubble_sort([23, 42, 75, 8, 6, 9])"
   ]
  },
  {
   "cell_type": "code",
   "execution_count": 28,
   "id": "ecf9ba40",
   "metadata": {},
   "outputs": [
    {
     "name": "stdout",
     "output_type": "stream",
     "text": [
      "6\n"
     ]
    }
   ],
   "source": [
    "#This calculates the length of the list (like in mathematical way)\n",
    "test_list = [6, 8, 9, 23, 42, 75]\n",
    "len_test = len(test_list)\n",
    "print(len_test)"
   ]
  },
  {
   "cell_type": "code",
   "execution_count": 29,
   "id": "b0d9f769",
   "metadata": {},
   "outputs": [
    {
     "name": "stdout",
     "output_type": "stream",
     "text": [
      "5\n"
     ]
    }
   ],
   "source": [
    "#This takes the first value to be at index 0 and so on ( how pythin counts)\n",
    "\n",
    "test_list = [6, 8, 9, 23, 42, 75]\n",
    "len_test = len(test_list)-1\n",
    "print(len_test)"
   ]
  },
  {
   "cell_type": "markdown",
   "id": "f251614d",
   "metadata": {},
   "source": [
    "#INSERTION SORTING\n",
    "2, 6, 5, 1, 3, 4\n",
    "\n",
    "2 /6, 5, 1, 3, 4\n",
    "\n",
    "It belives that 2 is already sorted because it is the first element\n",
    "\n",
    "\n",
    "2, 6, 5, 1, 3, 4\n",
    "\n",
    "\n",
    "\n",
    " 2 and 6 ( compare)\n",
    "  6>2 so no swaping \n",
    "  \n",
    "  \n",
    "  6 and 5 \n",
    "  6>5\n",
    "  \n",
    "  swap\n",
    "  \n",
    "2, 5, 6, 1, 3, 4\n",
    "\n",
    "2, 5, 1, 6, 3, 4\n",
    "\n",
    "2, 1, 5, 6, 3, 4\n",
    "\n",
    "1, 2, 5, 6, 3, 4\n",
    "\n",
    "1, 2, 5, 3, 6, 4\n",
    "\n",
    "1, 2, 3, 5, 6, 4\n",
    "\n",
    "1, 2, 3, 5, 4, 6\n",
    "\n",
    "1, 2, 3, 4, 5, 6\n"
   ]
  },
  {
   "cell_type": "code",
   "execution_count": 38,
   "id": "84106983",
   "metadata": {},
   "outputs": [],
   "source": [
    " def insertion(my_list):        \n",
    "        for i in range(1, len(my_list)):\n",
    "            j=i\n",
    "            # j is equated to i becuse the itertaion starts at the jth position hence this is als the ith value\n",
    "            while my_list[j-1] > my_list[j] and j > 0:  #if this condition is true swap\n",
    "                my_list[j-1], my_list[j] = my_list[j], my_list[j-1]\n",
    "                \n",
    "                j-=1\n",
    "            \n",
    "        return my_list    \n",
    "        \n",
    "        \n",
    "       \n",
    "            \n",
    "        \n",
    "        \n",
    "        \n",
    "       \n",
    "            "
   ]
  },
  {
   "cell_type": "code",
   "execution_count": 40,
   "id": "9f858759",
   "metadata": {},
   "outputs": [
    {
     "data": {
      "text/plain": [
       "[1, 2, 3, 4, 5, 6]"
      ]
     },
     "execution_count": 40,
     "metadata": {},
     "output_type": "execute_result"
    }
   ],
   "source": [
    "my_list = [2, 6, 5, 1, 3, 4]\n",
    "insertion(my_list1)\n"
   ]
  },
  {
   "cell_type": "code",
   "execution_count": 41,
   "id": "815db1a6",
   "metadata": {},
   "outputs": [
    {
     "data": {
      "text/plain": [
       "[1, 2, 3, 4, 5, 6, 9]"
      ]
     },
     "execution_count": 41,
     "metadata": {},
     "output_type": "execute_result"
    }
   ],
   "source": [
    "my_list = [9,2 , 6, 5, 1, 3, 4]\n",
    "insertion(my_list)\n",
    "\n",
    "\n"
   ]
  },
  {
   "cell_type": "code",
   "execution_count": null,
   "id": "18536c2d",
   "metadata": {},
   "outputs": [],
   "source": []
  }
 ],
 "metadata": {
  "kernelspec": {
   "display_name": "Python 3 (ipykernel)",
   "language": "python",
   "name": "python3"
  },
  "language_info": {
   "codemirror_mode": {
    "name": "ipython",
    "version": 3
   },
   "file_extension": ".py",
   "mimetype": "text/x-python",
   "name": "python",
   "nbconvert_exporter": "python",
   "pygments_lexer": "ipython3",
   "version": "3.11.4"
  }
 },
 "nbformat": 4,
 "nbformat_minor": 5
}
